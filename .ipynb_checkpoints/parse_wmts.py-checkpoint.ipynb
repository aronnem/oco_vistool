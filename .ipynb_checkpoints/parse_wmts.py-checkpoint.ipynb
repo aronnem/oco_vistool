{
 "cells": [
  {
   "cell_type": "code",
   "execution_count": 83,
   "id": "c786712b",
   "metadata": {},
   "outputs": [],
   "source": [
    "import xml.etree.ElementTree as ET\n",
    "import pandas as pd"
   ]
  },
  {
   "cell_type": "code",
   "execution_count": 84,
   "id": "7a2116bc",
   "metadata": {},
   "outputs": [
    {
     "name": "stdout",
     "output_type": "stream",
     "text": [
      "CPU times: user 111 ms, sys: 2.53 ms, total: 113 ms\n",
      "Wall time: 110 ms\n"
     ]
    }
   ],
   "source": [
    "%%time\n",
    "tree = ET.parse(\"wmts.xml\")\n",
    "root = tree.getroot()\n",
    "layer_list = list()\n",
    "filename_list = list()\n",
    "#for child in root:\n",
    "    #print(child.find('{http://www.opengis.net/wmts/1.0}Layer'))\n",
    "for contents in root.findall('{http://www.opengis.net/wmts/1.0}Contents'):\n",
    "    for layer in contents.findall('{http://www.opengis.net/wmts/1.0}Layer'):\n",
    "        for identifier in layer.findall('{http://www.opengis.net/ows/1.1}Identifier'):\n",
    "            layer_list.append(identifier.text.strip())\n",
    "        filename = layer.find('{http://www.opengis.net/ows/1.1}Metadata')\n",
    "        if (filename is not None):\n",
    "            filename_list.append(filename.attrib.get('{http://www.w3.org/1999/xlink}href'))\n",
    "        else:\n",
    "            filename_list.append('Null')\n",
    "layer_xml_df = pd.DataFrame(list(zip(layer_list, filename_list)), columns = ['name', 'url'])\n",
    "layer_xml_df.to_csv('layer_xml.csv', index = False, header = False)"
   ]
  },
  {
   "cell_type": "code",
   "execution_count": null,
   "id": "0673008c",
   "metadata": {},
   "outputs": [],
   "source": []
  }
 ],
 "metadata": {
  "kernelspec": {
   "display_name": "Python 3",
   "language": "python",
   "name": "python3"
  },
  "language_info": {
   "codemirror_mode": {
    "name": "ipython",
    "version": 3
   },
   "file_extension": ".py",
   "mimetype": "text/x-python",
   "name": "python",
   "nbconvert_exporter": "python",
   "pygments_lexer": "ipython3",
   "version": "3.8.5"
  }
 },
 "nbformat": 4,
 "nbformat_minor": 5
}
