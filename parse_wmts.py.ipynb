{
 "cells": [
  {
   "cell_type": "code",
   "execution_count": 5,
   "id": "c786712b",
   "metadata": {},
   "outputs": [],
   "source": [
    "import xml.etree.ElementTree as ET\n",
    "import pandas as pd"
   ]
  },
  {
   "cell_type": "code",
   "execution_count": 8,
   "id": "7a2116bc",
   "metadata": {},
   "outputs": [
    {
     "name": "stdout",
     "output_type": "stream",
     "text": [
      "CPU times: user 106 ms, sys: 7.98 ms, total: 114 ms\n",
      "Wall time: 111 ms\n"
     ]
    }
   ],
   "source": [
    "tree = ET.parse(\"wmts.xml\")\n",
    "root = tree.getroot()\n",
    "layer_list = list()\n",
    "filename_list = list()\n",
    "\n",
    "for contents in root.findall('{http://www.opengis.net/wmts/1.0}Contents'):\n",
    "    for layer in contents.findall('{http://www.opengis.net/wmts/1.0}Layer'):\n",
    "        for identifier in layer.findall('{http://www.opengis.net/ows/1.1}Identifier'):\n",
    "            layer_list.append(identifier.text.strip())\n",
    "        filename = layer.find('{http://www.opengis.net/ows/1.1}Metadata')\n",
    "        if (filename is not None):\n",
    "            filename_list.append(filename.attrib.get('{http://www.w3.org/1999/xlink}href'))\n",
    "        else:\n",
    "            filename_list.append('Null')\n",
    "\n",
    "layer_xml_df = pd.DataFrame(list(zip(layer_list, filename_list)), columns = ['Name', 'Url'])\n",
    "layer_xml_df.to_csv('Layer_xml.csv', index = False)"
   ]
  },
  {
   "cell_type": "code",
   "execution_count": null,
   "id": "0673008c",
   "metadata": {},
   "outputs": [],
   "source": []
  }
 ],
 "metadata": {
  "kernelspec": {
   "display_name": "Python 3",
   "language": "python",
   "name": "python3"
  },
  "language_info": {
   "codemirror_mode": {
    "name": "ipython",
    "version": 3
   },
   "file_extension": ".py",
   "mimetype": "text/x-python",
   "name": "python",
   "nbconvert_exporter": "python",
   "pygments_lexer": "ipython3",
   "version": "3.8.5"
  }
 },
 "nbformat": 4,
 "nbformat_minor": 5
}
